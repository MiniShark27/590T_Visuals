{
  "nbformat": 4,
  "nbformat_minor": 0,
  "metadata": {
    "colab": {
      "name": "Week 1 revised",
      "provenance": [],
      "collapsed_sections": [],
      "include_colab_link": true
    },
    "kernelspec": {
      "name": "python3",
      "display_name": "Python 3"
    },
    "language_info": {
      "name": "python"
    }
  },
  "cells": [
    {
      "cell_type": "markdown",
      "metadata": {
        "id": "view-in-github",
        "colab_type": "text"
      },
      "source": [
        "<a href=\"https://colab.research.google.com/github/MiniShark27/590T_Visuals/blob/main/Week_1_revised.ipynb\" target=\"_parent\"><img src=\"https://colab.research.google.com/assets/colab-badge.svg\" alt=\"Open In Colab\"/></a>"
      ]
    },
    {
      "cell_type": "markdown",
      "source": [
        "Notes:\n",
        "- How to run: \n",
        "  - Run the code blocks in order until you get to the text are called \"View Output Section\"\n",
        "  - Can customize the payoff matrix in its box when you get to it\n",
        "  - Run one of the code blocks (or both) to see visual output\n",
        "- How did I get here\n",
        "  - I was looking into a way to make interactive charts/graphs in a python notebook\n",
        "  - Realized that a major point of a python notebook is that you execute each block of code then never interface with it again until re-running it\n",
        "  - Interactability goes against this is my reasoning for why I couldn't find a way to make interactive tables\n",
        "  - If a library is found though, let me know\n",
        "- Current Features:\n",
        "  - Can identify nash eqaulibria in a 2 player game\n",
        "  - Does this by checking every combination to see if neither player has a better response\n",
        "  - Displys a coler coded table with a description to show if a cell represents a nash equalibrium\n",
        "  - If it doesn't, it highlights the nash equalibrium\n",
        "  - Also has (hopefully) decent documentation\n",
        "- Todos\n",
        "  - Implement dominant strategy identification\n",
        "  - I was struggling with this while imagining the following situation (see at end because I can't get the table in between this list):\n",
        "  - I know no row can be eliminated in this situation because no combination of rows can eliminate a row with a max and the row with 3s can't be dominated by a mixed strategy (as doing 1/3 of each of the other rows yields a predicted row with less payout)\n",
        "  - I can (and likely will before Thursday) implement pure dominated strategy elimination, but for mixed dominate strategies I would need to talk to iron out the algorithim\n",
        "\n",
        "\n",
        "| A | B | C |\n",
        "|---|---|---|\n",
        "| 7 | 0 | 0 |\n",
        "| 3 | 3 | 3 |\n",
        "| 0 | 7 | 0 |\n",
        "| 0 | 0 | 7 |\n",
        "\n",
        "Update (Wednesday)\n",
        "- Implemented Strict domination elimination\n",
        "- Code currently is not as organized as ideal (could probably combine some methods) but it works (YAY)\n",
        "- Code is somewhat documented, but if anything is unclear let me know"
      ],
      "metadata": {
        "id": "cQOuWzWBwgXF"
      }
    },
    {
      "cell_type": "code",
      "source": [
        "# Determines if a set of strategies for a row and column player is a nash \n",
        "# equalibrium\n",
        "def isNashEqualibrium(payoffs,row,col):\n",
        "  br_row = isBetterRowResponse(payoffs,col,payoffs[row][col].row_val)\n",
        "  br_col = isBetterColResponse(payoffs,row,payoffs[row][col].col_val)\n",
        "  return (br_row,br_col)\n",
        "\n",
        "# Finds a better response index for the row if it exist\n",
        "# Returns None if there is no better (higher payoff) row response\n",
        "# Otherwise, returns the row index of a better response\n",
        "def isBetterRowResponse(payoffs,col,cur_payoff):\n",
        "  payoff_options = [row[col].row_val for row in payoffs]\n",
        "  max_payoff = max(payoff_options)\n",
        "  if max_payoff == cur_payoff:\n",
        "    return None\n",
        "  return payoff_options.index(max_payoff)\n",
        "\n",
        "# Finds a better response index for the column if it exist\n",
        "# Returns None if there is no better (higher payoff) column response\n",
        "# Otherwise, returns the column index of a better response\n",
        "def isBetterColResponse(payoffs,row,cur_payoff):\n",
        "  payoff_options = [cell.col_val for cell in payoffs[row]]\n",
        "  max_payoff = max(payoff_options)\n",
        "  if max_payoff == cur_payoff:\n",
        "    return None\n",
        "  return payoff_options.index(max_payoff)"
      ],
      "metadata": {
        "id": "JiXwGs8bedZf"
      },
      "execution_count": null,
      "outputs": []
    },
    {
      "cell_type": "code",
      "source": [
        "# This code box is for implementing the strictly dominating strategies and\n",
        "# eliminating them\n",
        "\n",
        "def isFirstRowDominating(row1,row2):\n",
        "  for elem1 in row1:\n",
        "    for elem2 in row2:\n",
        "      if elem1.row_val <= elem2.row_val:\n",
        "        return False\n",
        "  return True\n",
        "\n",
        "def findPureRowDominatedStrategy(payoffs):\n",
        "  for row1_index in range(len(payoffs)):\n",
        "    for row2_index in range(len(payoffs)):\n",
        "      if row1_index != row2_index:\n",
        "        if isFirstRowDominating(payoffs[row1_index],payoffs[row2_index]):\n",
        "          return (row2_index,row1_index)\n",
        "  return (None,None)\n",
        "\n",
        "def isFirstColDominating(col1,col2):\n",
        "  for elem1 in col1:\n",
        "    for elem2 in col2:\n",
        "      if elem1.col_val <= elem2.col_val:\n",
        "        return False\n",
        "  return True\n",
        "\n",
        "def findPureColDominatedStrategy(payoffs):\n",
        "  for col1_index in range(len(payoffs)):\n",
        "    for col2_index in range(len(payoffs)):\n",
        "      if col1_index != col2_index:\n",
        "        if isFirstColDominating(payoffs[col1_index],payoffs[col2_index]):\n",
        "          return (col2_index,col1_index)\n",
        "  return (None,None)\n",
        "\n",
        "def getTranspose(l):\n",
        "  return list(zip(*l))\n",
        "\n",
        "def preprocess(payoffs,row,col,description):\n",
        "  # Checks to see if a row is strictly dominates\n",
        "  (res,by) = findPureRowDominatedStrategy(payoffs)\n",
        "\n",
        "  # If a row is strictly dominated\n",
        "  if res != None:\n",
        "\n",
        "    # Update description\n",
        "    description += \"Row \" + str(res) + \" is strictly dominated by row \" \\\n",
        "    + str(by) + \"\\n\"\n",
        "\n",
        "    # Create a new payoff list to use in recursive call\n",
        "    new_payoffs = [i for i in payoffs]\n",
        "\n",
        "    for payoff in new_payoffs.pop(res):\n",
        "      payoff.set_color(\"purple\")\n",
        "\n",
        "    # Update relative row (if a prior row was eliminated) \n",
        "    # or specify the row was eliminated (-1)\n",
        "    if res < row: \n",
        "      row-=1\n",
        "    elif res == row:\n",
        "      row = -1\n",
        "    return preprocess(new_payoffs,row,col,description)\n",
        "\n",
        "  # The logic for the columns is done the same as rows with the transpose\n",
        "  payoffs_transposed = getTranspose(payoffs)\n",
        "  (res,by) = findPureColDominatedStrategy(payoffs_transposed)\n",
        "  if res != None:\n",
        "    description += \"Column \" + str(res) + \" is strictly dominated by column \" \\\n",
        "    + str(by) + \"\\n\"\n",
        "    new_payoffs = [i for i in payoffs_transposed]\n",
        "    for payoff in new_payoffs.pop(res):\n",
        "      payoff.set_color(\"purple\")\n",
        "    if res < col: \n",
        "      col-=1\n",
        "    elif res == col:\n",
        "      col = -1\n",
        "    return preprocess(getTranspose(new_payoffs),row,col,description)\n",
        "  return (payoffs,row,col,description)"
      ],
      "metadata": {
        "id": "xUtT28-N7fv1"
      },
      "execution_count": null,
      "outputs": []
    },
    {
      "cell_type": "code",
      "source": [
        "colors = {\n",
        "    'white':'#FFFFFF',\n",
        "    'gray': '#AAA9AD',\n",
        "    'black':'#313639',\n",
        "    'purple':'#AD688E',\n",
        "    'orange':'#D18F77',\n",
        "    'yellow':'#E8E190',\n",
        "    'ltgreen':'#CCD9C7',\n",
        "    'dkgreen':'#96ABA0'\n",
        "    }\n",
        "\n",
        "# Payoff object stores a payoff\n",
        "# Advantage of using this is that it can color itself\n",
        "# (which means I don't have to pass the table and colors everywhere)\n",
        "class Payoff:\n",
        "  def __init__(self,row_index,col_index,row_val,col_val,table):\n",
        "    self.row_index = row_index\n",
        "    self.col_index = col_index\n",
        "    self.row_val = row_val\n",
        "    self.col_val = col_val\n",
        "    self.table = table\n",
        "    self.color = None\n",
        "\n",
        "  # Should be set to a color in the colors array (above)\n",
        "  def set_color(self,color):\n",
        "    self.color = color\n",
        "\n",
        "  def highlight(self):\n",
        "    if self.color != None:\n",
        "      self.table[self.row_index,self.col_index] \\\n",
        "      .set_facecolor(colors[self.color])\n",
        "\n",
        "  def __str__(self):\n",
        "    return \"(\" + str(self.row_val) + \",\" + str(self.col_val) + \")\"\n",
        "  def __repr__(self):\n",
        "    return self.__str__()"
      ],
      "metadata": {
        "id": "qzY2Bb6rNGEb"
      },
      "execution_count": null,
      "outputs": []
    },
    {
      "cell_type": "code",
      "source": [
        "import numpy as np\n",
        "import pandas as pd\n",
        "import matplotlib.pyplot as plt \n",
        "\n",
        "# Draws the table and adds the description at the bottom\n",
        "def drawTable(row,col,payoffs):\n",
        "\n",
        "  # Creates Table\n",
        "  df_data = [[str(cell) for cell in row] for row in payoffs]\n",
        "  df = pd.DataFrame(df_data,dtype='string')\n",
        "  fig, ax = plt.subplots()\n",
        "  fig.patch.set_visible(False)\n",
        "  ax.axis('off')\n",
        "  ax.axis('tight')\n",
        "  table = ax.table(cellText=df.values, loc='center', cellLoc='center')\n",
        "\n",
        "  # Construct Payoff Objects from payoff matrix\n",
        "  Payoff_data = [[Payoff(row[0],cell[0],cell[1][0],cell[1][1],table) for cell \\\n",
        "                  in enumerate(row[1])] for row in enumerate(payoffs)]\n",
        "\n",
        "  (new_payoffs,new_row,new_col,elimination_description) \\\n",
        "    = preprocess(Payoff_data,row,col,\"\")\n",
        "\n",
        "  # Adds upper description (for eliminated stratiegies)\n",
        "  plt.figtext(0.5, 0.8,\n",
        "            elimination_description,\n",
        "            horizontalalignment='center',\n",
        "            size=9, style='italic'\n",
        "           )\n",
        "\n",
        "  # Determines if cell is in a strictly dominated strategy\n",
        "  # If it is, we don't need to calculate to see if it is a Nash Equalibrium\n",
        "  description = \"\"\n",
        "  if new_row != -1 and new_col != -1:\n",
        "    description = NashEqualibriumHighlighter(new_payoffs,new_row,new_col)\n",
        "  else:\n",
        "    Payoff_data[row][col].set_color(\"yellow\")\n",
        "    description = \"At least on of the strategies chosen is a strictly dominated\\\n",
        "     \\n strategy, so this is not a Nash Equalibrium\"\n",
        "\n",
        "  # Adds Higlighting to cells\n",
        "  for r in Payoff_data:\n",
        "    for c in r:\n",
        "      c.highlight()\n",
        "\n",
        "  # Add lower description and display it\n",
        "  plt.figtext(0.5, 0.2,\n",
        "            description,\n",
        "            horizontalalignment='center',\n",
        "            size=9, style='italic'\n",
        "           )\n",
        "  fig.tight_layout()\n",
        "  plt.show()\n",
        "\n",
        "# Highlights if the strategy set is a nash equalibrium\n",
        "# Only run if both strategies are not strictly dominated\n",
        "def NashEqualibriumHighlighter(payoffs,row,col):\n",
        "  (better_row,better_col) = isNashEqualibrium(payoffs,row,col)\n",
        "\n",
        "  # Found Nash Equalibrium\n",
        "  if (better_col == None) and (better_row == None):\n",
        "    payoffs[row][col].set_color(\"ltgreen\")\n",
        "    return \"This is a nash Eqaulibrium\"\n",
        "\n",
        "  # Did not find nash equalibrium\n",
        "  payoffs[row][col].set_color(\"yellow\")\n",
        "  description = \"This is not a Nash Eqaulibrium\"\n",
        "\n",
        "  # Highlight better column strategy (if found)\n",
        "  if better_col != None:\n",
        "    payoffs[row][better_col].set_color(\"ltgreen\")\n",
        "    description += \\\n",
        "    '\\n The Column player would rather play in column: ' + str(better_col)\n",
        "\n",
        "  # Highlight better row strategy (if found)\n",
        "  if better_row != None:\n",
        "    payoffs[better_row][col].set_color(\"ltgreen\")\n",
        "    description += \\\n",
        "    '\\n The Row player would rather play in row: ' + str(better_row)\n",
        "  \n",
        "  return description"
      ],
      "metadata": {
        "id": "wYg73jpxjpN3"
      },
      "execution_count": null,
      "outputs": []
    },
    {
      "cell_type": "markdown",
      "source": [
        "# Specify The Payoff Matrix Below:"
      ],
      "metadata": {
        "id": "MF_a25dO2kOn"
      }
    },
    {
      "cell_type": "code",
      "execution_count": null,
      "metadata": {
        "id": "OMyY-fmpGAVl"
      },
      "outputs": [],
      "source": [
        "# Make you payoff matrix here\n",
        "# Should be a 2D list of tuples where each tuple has 2 integers \n",
        "# Each tuple will be the payoffs for row and column player respectivly\n",
        "payoffs = [\n",
        "           [(0,0),(0,0),(0,0),(0,0)],\n",
        "           [(1,1),(1,2),(2,3),(0,2)],\n",
        "           [(1,1),(4,2),(3,3),(1,6)],\n",
        "           [(1,1),(3,3),(4,1),(0,3)],\n",
        "           [(1,1),(4,3),(6,0),(2,3)]\n",
        "]"
      ]
    },
    {
      "cell_type": "markdown",
      "source": [
        "# View Output Section:\n",
        "- First code block creates tables for all possible strategy combinations\n",
        "- Second code block creates a single table for a given row and column strategy"
      ],
      "metadata": {
        "id": "8_8D4RYD1350"
      }
    },
    {
      "cell_type": "code",
      "source": [
        "from google.colab import widgets\n",
        "\n",
        "# Goes through each possible strategy combination to determine if it is a nash \n",
        "# equalibrium\n",
        "# Each cell in the created grid corresponds to its payoff in the payoff matrix\n",
        "def makeGrid():\n",
        "  grid = widgets.Grid(len(payoffs), len(payoffs[0]))\n",
        "  for row in range(len(payoffs)):\n",
        "    for col in range(len(payoffs[row])):\n",
        "      with grid.output_to(row, col):\n",
        "        drawTable(row,col,payoffs)\n",
        "\n",
        "#@title Enable the run checkbox to run this\n",
        "#@markdown This is here because running this may produce a large output\n",
        "run = False#@param {type:\"boolean\"}\n",
        "if run:\n",
        "  makeGrid()"
      ],
      "metadata": {
        "id": "7cLGCHeFjv_F"
      },
      "execution_count": null,
      "outputs": []
    },
    {
      "cell_type": "code",
      "source": [
        "#@title Inspect a specific cell (0 indexed) { run: \"auto\" }\n",
        "row =  3#@param {type:\"number\"}\n",
        "column =  2#@param {type:\"number\"}\n",
        "\n",
        "drawTable(row,column,payoffs)"
      ],
      "metadata": {
        "colab": {
          "base_uri": "https://localhost:8080/",
          "height": 297
        },
        "id": "_QwfMqPQGKQ_",
        "outputId": "f58562bf-44e0-45ec-c58c-42f808d444f2"
      },
      "execution_count": null,
      "outputs": [
        {
          "output_type": "display_data",
          "data": {
            "image/png": "[encoded data removed]",
            "text/plain": [
              "<Figure size 432x288 with 1 Axes>"
            ]
          },
          "metadata": {
            "needs_background": "light"
          }
        }
      ]
    }
  ]
}